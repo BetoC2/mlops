{
 "cells": [
  {
   "cell_type": "code",
   "execution_count": 47,
   "metadata": {},
   "outputs": [
    {
     "name": "stdout",
     "output_type": "stream",
     "text": [
      "tensor([1, 2, 3, 4, 5, 6, 7])\n",
      "tensor([[ 1,  2,  3],\n",
      "        [10, 11, 12]])\n"
     ]
    }
   ],
   "source": [
    "# import torch module\n",
    "import torch\n",
    "# create a 3 D tensor with 8 elements each\n",
    "a = torch.tensor([\n",
    "    [\n",
    "        [1, 2, 3, 4, 5, 6, 7, 8],\n",
    "        [10, 11, 12, 13, 14, 15, 16, 17]\n",
    "    ],\n",
    "    [\n",
    "        [71, 72, 73, 74, 75, 76, 77, 78],\n",
    "        [81, 82, 83, 84, 85, 86, 87, 88]\n",
    "    ]\n",
    "    ])\n",
    "# display actual tensor\n",
    "\n",
    "#tensor([1, 2, 3, 4, 5, 6, 7])\n",
    "print(a[0, 0, :-1])\n",
    "\n",
    "#tensor([[ 1, 2, 3], [10, 11, 12]])\n",
    "print(a[0, :, :3])"
   ]
  },
  {
   "cell_type": "code",
   "execution_count": 57,
   "metadata": {},
   "outputs": [
    {
     "name": "stdout",
     "output_type": "stream",
     "text": [
      "tensor(1., grad_fn=<PowBackward0>)\n",
      "tensor(-2.)\n"
     ]
    }
   ],
   "source": [
    "import torch\n",
    "x = torch.tensor(1.0)\n",
    "y = torch.tensor(2.0)\n",
    "w = torch.tensor(1.0, requires_grad=True)\n",
    "# forward pass and compute the loss\n",
    "y_hat = w * x\n",
    "loss = (y_hat - y)**2\n",
    "print(loss)\n",
    "# backward pass\n",
    "loss.backward()\n",
    "print(w.grad)"
   ]
  },
  {
   "cell_type": "code",
   "execution_count": null,
   "metadata": {},
   "outputs": [
    {
     "name": "stdout",
     "output_type": "stream",
     "text": [
      "Iteración 1: w = 1.20, Pérdida = 1.0000\n",
      "Iteración 2: w = 1.36, Pérdida = 0.6400\n",
      "Iteración 3: w = 1.49, Pérdida = 0.4096\n",
      "Iteración 4: w = 1.59, Pérdida = 0.2621\n",
      "Iteración 5: w = 1.67, Pérdida = 0.1678\n",
      "Iteración 6: w = 1.74, Pérdida = 0.1074\n",
      "Iteración 7: w = 1.79, Pérdida = 0.0687\n",
      "Iteración 8: w = 1.83, Pérdida = 0.0440\n",
      "Iteración 9: w = 1.87, Pérdida = 0.0281\n",
      "Iteración 10: w = 1.89, Pérdida = 0.0180\n",
      "Iteración 11: w = 1.91, Pérdida = 0.0115\n",
      "Iteración 12: w = 1.93, Pérdida = 0.0074\n",
      "Iteración 13: w = 1.95, Pérdida = 0.0047\n",
      "Iteración 14: w = 1.96, Pérdida = 0.0030\n",
      "Iteración 15: w = 1.96, Pérdida = 0.0019\n",
      "Iteración 16: w = 1.97, Pérdida = 0.0012\n",
      "Iteración 17: w = 1.98, Pérdida = 0.0008\n",
      "Iteración 18: w = 1.98, Pérdida = 0.0005\n",
      "Iteración 19: w = 1.99, Pérdida = 0.0003\n",
      "Iteración 20: w = 1.99, Pérdida = 0.0002\n"
     ]
    }
   ],
   "source": [
    "import torch\n",
    "\n",
    "x = torch.tensor(1.0)\n",
    "y = torch.tensor(2.0)\n",
    "w = torch.tensor(1.0, requires_grad=True)\n",
    "learning_rate = 0.1\n",
    "\n",
    "for epoch in range(20):\n",
    "    loss = (w * x - y) ** 2\n",
    "    loss.backward()\n",
    "    \n",
    "    w.data -= learning_rate * w.grad\n",
    "    \n",
    "    w.grad.zero_()\n",
    "    \n",
    "    print(f\"Iteración {epoch+1}: w = {w.item():.2f}, Pérdida = {loss.item():.4f}\")"
   ]
  }
 ],
 "metadata": {
  "kernelspec": {
   "display_name": ".venv",
   "language": "python",
   "name": "python3"
  },
  "language_info": {
   "codemirror_mode": {
    "name": "ipython",
    "version": 3
   },
   "file_extension": ".py",
   "mimetype": "text/x-python",
   "name": "python",
   "nbconvert_exporter": "python",
   "pygments_lexer": "ipython3",
   "version": "3.13.2"
  }
 },
 "nbformat": 4,
 "nbformat_minor": 2
}
